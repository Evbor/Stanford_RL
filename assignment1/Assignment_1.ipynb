{
 "cells": [
  {
   "cell_type": "markdown",
   "metadata": {},
   "source": [
    "# 1) Grid World"
   ]
  },
  {
   "cell_type": "markdown",
   "metadata": {},
   "source": [
    "## a)"
   ]
  },
  {
   "cell_type": "markdown",
   "metadata": {},
   "source": [
    "Since $\\gamma=1$ all future moves that the agent can make have an equal weight on the agent's expected future reward. Since $r_{r} \\in \\{-1, 0, 1\\}$, and we want our agent's optimal policy to be the shortest route to the target square, $r_{r}$ cannot equal $1$ or $0$. Assuming $r_{r}=1$, would imply that the agent could achieve a maximum amount of reward by never reaching the target square or death square, therefore $r_{r}\\neq1$. Assuming $r_{r}=0$ would imply there exists optimal policies where the agent doesn't take the shortest route to the target square since the expected future reward of the shortest route would equal the expected future reward of any other route that doesn't land on the death square, therefore $r_{r}\\neq0$. Therefore $r_{r}=-1$, since it successfully punishes the agent for taking longer routes to the target square."
   ]
  },
  {
   "cell_type": "markdown",
   "metadata": {},
   "source": [
    "**Calculating the expected future reward for each state: $V^{\\pi}(s)$**"
   ]
  },
  {
   "cell_type": "markdown",
   "metadata": {},
   "source": [
    "$$ V^{\\pi} = R^{\\pi} + \\gamma P^{\\pi}V^{\\pi} $$\n",
    "\n",
    "$$ V^{\\pi} = (I - \\gamma P^{\\pi})^{-1} R^{\\pi}$$\n",
    "\n",
    "Let: $ R^{\\pi} = \\begin{bmatrix} -1 \\\\ -1 \\\\ -1 \\\\ -1 \\\\ -5 \\\\ -1 \\\\ -1 \\\\ -1 \\\\ -1 \\\\ -1 \\\\ -1 \\\\ 5 \\\\ -1 \\\\ -1 \\\\ -1 \\\\ -1 \\end{bmatrix}$ and $ P^{\\pi} = \\begin{bmatrix}0&1&0&0&0&0&0&0&0&0&0&0&0&0&0&0\n",
    "\\\\ 0&0&1&0&0&0&0&0&0&0&0&0&0&0&0&0 \\\\ 0&0&0&1&0&0&0&0&0&0&0&0&0&0&0&0 \\\\ 0&0&0&0&0&0&0&1&0&0&0&0&0&0&0&0 \\\\ 0&0&0&0&1&0&0&0&0&0&0&0&0&0&0&0 \\\\ 0&0&0&0&0&0&1&0&0&0&0&0&0&0&0&0 \\\\ 0&0&0&0&0&0&0&1&0&0&0&0&0&0&0&0 \\\\ 0&0&0&0&0&0&0&0&0&0&0&1&0&0&0&0 \\\\ 0&0&0&0&0&0&0&0&0&1&0&0&0&0&0&0 \\\\ 0&0&0&0&0&0&0&0&0&0&1&0&0&0&0&0 \\\\ 0&0&0&0&0&0&0&0&0&0&0&1&0&0&0&0 \\\\ 0&0&0&0&0&0&0&0&0&0&0&1&0&0&0&0 \\\\ 0&0&0&0&0&0&0&0&1&0&0&0&0&0&0&0 \\\\ 0&0&0&0&0&0&0&0&0&0&0&0&1&0&0&0 \\\\ 0&0&0&0&0&0&0&0&0&0&0&0&0&1&0&0 \\\\ 0&0&0&0&0&0&0&0&0&0&0&0&0&0&1&0 \\end{bmatrix}$, and $\\gamma = 1$"
   ]
  },
  {
   "cell_type": "code",
   "execution_count": 33,
   "metadata": {},
   "outputs": [
    {
     "name": "stdout",
     "output_type": "stream",
     "text": [
      "[ 0.  1.  2.  3. -5.  2.  3.  4.  2.  3.  4.  5.  1.  0. -1. -2.]\n"
     ]
    }
   ],
   "source": [
    "import numpy as np\n",
    "\n",
    "# Defining Variables\n",
    "I = np.identity(16)\n",
    "R = np.asarray([-1, -1, -1, -1, -5, -1, -1, -1, -1, -1, -1, 5, -1, -1, -1, -1])\n",
    "P = np.asarray([[0,1,0,0,0,0,0,0,0,0,0,0,0,0,0,0],[0,0,1,0,0,0,0,0,0,0,0,0,0,0,0,0],[0,0,0,1,0,0,0,0,0,0,0,0,0,0,0,0],[0,0,0,0,0,0,0,1,0,0,0,0,0,0,0,0],[0,0,0,0,0,0,0,0,0,0,0,0,0,0,0,0],[0,0,0,0,0,0,1,0,0,0,0,0,0,0,0,0],[0,0,0,0,0,0,0,1,0,0,0,0,0,0,0,0],[0,0,0,0,0,0,0,0,0,0,0,1,0,0,0,0],[0,0,0,0,0,0,0,0,0,1,0,0,0,0,0,0],[0,0,0,0,0,0,0,0,0,0,1,0,0,0,0,0],[0,0,0,0,0,0,0,0,0,0,0,1,0,0,0,0],[0,0,0,0,0,0,0,0,0,0,0,0,0,0,0,0],[0,0,0,0,0,0,0,0,1,0,0,0,0,0,0,0],[0,0,0,0,0,0,0,0,0,0,0,0,1,0,0,0],[0,0,0,0,0,0,0,0,0,0,0,0,0,1,0,0],[0,0,0,0,0,0,0,0,0,0,0,0,0,0,1,0]])\n",
    "l = 1\n",
    "\n",
    "# Calculating the Value mapping of each state\n",
    "V = np.dot(np.linalg.inv(I - l*P), R)\n",
    "print(V)"
   ]
  },
  {
   "cell_type": "markdown",
   "metadata": {},
   "source": [
    "## b)"
   ]
  },
  {
   "cell_type": "code",
   "execution_count": 35,
   "metadata": {},
   "outputs": [
    {
     "name": "stdout",
     "output_type": "stream",
     "text": [
      "[12. 11. 10.  9. -3. 10.  9.  8. 10.  9.  8.  7. 11. 12. 13. 14.]\n"
     ]
    }
   ],
   "source": [
    "import numpy as np\n",
    "\n",
    "# Defining Variables\n",
    "I = np.identity(16)\n",
    "R = np.asarray([-1, -1, -1, -1, -5, -1, -1, -1, -1, -1, -1, 5, -1, -1, -1, -1])\n",
    "P = np.asarray([[0,1,0,0,0,0,0,0,0,0,0,0,0,0,0,0],[0,0,1,0,0,0,0,0,0,0,0,0,0,0,0,0],[0,0,0,1,0,0,0,0,0,0,0,0,0,0,0,0],[0,0,0,0,0,0,0,1,0,0,0,0,0,0,0,0],[0,0,0,0,0,0,0,0,0,0,0,0,0,0,0,0],[0,0,0,0,0,0,1,0,0,0,0,0,0,0,0,0],[0,0,0,0,0,0,0,1,0,0,0,0,0,0,0,0],[0,0,0,0,0,0,0,0,0,0,0,1,0,0,0,0],[0,0,0,0,0,0,0,0,0,1,0,0,0,0,0,0],[0,0,0,0,0,0,0,0,0,0,1,0,0,0,0,0],[0,0,0,0,0,0,0,0,0,0,0,1,0,0,0,0],[0,0,0,0,0,0,0,0,0,0,0,0,0,0,0,0],[0,0,0,0,0,0,0,0,1,0,0,0,0,0,0,0],[0,0,0,0,0,0,0,0,0,0,0,0,1,0,0,0],[0,0,0,0,0,0,0,0,0,0,0,0,0,1,0,0],[0,0,0,0,0,0,0,0,0,0,0,0,0,0,1,0]])\n",
    "l = 1\n",
    "\n",
    "# Calculating the Value mapping of each state\n",
    "V = np.dot(np.linalg.inv(I - l*P), (R + np.full(16, 2)))\n",
    "print(V)"
   ]
  },
  {
   "cell_type": "markdown",
   "metadata": {},
   "source": [
    "## c)"
   ]
  },
  {
   "cell_type": "markdown",
   "metadata": {},
   "source": [
    "Define: $V^{\\pi}_{old}(s) = \\mathbb{E}(G_{t}|s_{t}=s)$ where: $G_{t} = r_{t} + \\gamma r_{t+1} + \\gamma^{2} r_{t+2} + \\gamma^{3} r_{t+3} + ...$\n",
    "\n",
    "\n",
    "Let: \n",
    "\n",
    "$$V^{\\pi}_{new}(s) = \\mathbb{E}(G^{new}_{t}|s_{t}=s) = \\mathbb{E}(c + r_{t} + \\gamma(c + r_{t+1}) + \\gamma^{2}(c + r_{t+2}) + \\gamma^{3}(c + r_{t+3}) + ...|s_{t}=s)$$\n",
    "\n",
    "$$V^{\\pi}_{new}(s) = \\mathbb{E}(c(1 + \\gamma + \\gamma^{2} + \\gamma^{3} + ...) + (r_{t} + \\gamma r_{t+1} + \\gamma^{2} r_{t+2} + \\gamma^{3} r_{t+3} + ...)|s_{t}=s)$$\n",
    "\n",
    "$$V^{\\pi}_{new}(s) = \\mathbb{E}(c(1 + \\gamma + \\gamma^{2} + \\gamma^{3} + ...) + G_{t}|s_{t}=s)$$\n",
    "\n",
    "Since: $0 \\leq \\gamma < 1$\n",
    "\n",
    "$$V^{\\pi}_{new}(s) = \\mathbb{E}\\left(\\frac{c}{(1-\\gamma)} + G_{t}|s_{t}=s\\right) = \\frac{c}{(1 - \\gamma)} + \\mathbb{E}(G_{t}|s_{t}=s) = \\frac{c}{(1 - \\gamma)} + V^{\\pi}_{old}(s)$$\n",
    "\n",
    "Therefore: $V^{\\pi}_{new}(s) = \\frac{c}{(1 - \\gamma)} + V^{\\pi}_{old}(s)$"
   ]
  },
  {
   "cell_type": "markdown",
   "metadata": {},
   "source": [
    "## d)"
   ]
  },
  {
   "cell_type": "markdown",
   "metadata": {},
   "source": [
    "The optimal policy becomes one where the agent wanders around infinitely, only moving towards clear squares. This is because the action of moving to a clear square provides a positive reward, so as long as the agent stays on only clear squares it can gain an infinite amount of reward, while if it leaves either the green or red square the episode stops leaving the agent with only a finite reward. The clear squares would now have an infinite value function under the optimal policy."
   ]
  },
  {
   "cell_type": "markdown",
   "metadata": {},
   "source": [
    "## e)"
   ]
  },
  {
   "cell_type": "markdown",
   "metadata": {},
   "source": [
    "Forcing $0 < \\gamma < 1$ will change the optimal policy to be one where the agent no longer wanders forever. This is because enforcing this condition normalizes the value function to be finite at the clear squares allowing for an optimal policy that doesn't wander forever. Different values of gamma will change the optimal policy because gamma controls how much importance the agent weights far off future rewards. "
   ]
  },
  {
   "cell_type": "markdown",
   "metadata": {},
   "source": [
    "## f)"
   ]
  },
  {
   "cell_type": "markdown",
   "metadata": {},
   "source": [
    "$r_{s} = -10$ leads to an optimal policy that terminates at the red square if the agent starts out in square 6. This is because the total reward for following the shortest path to the green square leads to a total reward much less than the positive reward value that comes from leaving the green square and terminating the episode. Assuming the agent started at square 6, the agent could produce a much higher value of reward by just moving to the red square than terminating the episode. "
   ]
  },
  {
   "cell_type": "markdown",
   "metadata": {},
   "source": [
    "# 2) Value of Different Policies"
   ]
  },
  {
   "cell_type": "markdown",
   "metadata": {},
   "source": [
    "Prove: $$V^{\\pi_{1}}_{1}(x_{1}) - V^{\\pi_{2}}_{1}(x_{1}) = \\sum_{t=1}^{H}\\mathbb{E}_{x_{t}\\sim\\pi_{2}}\\left(Q^{\\pi_{1}}_{t}(x_{t}, \\pi_{1}(x_{t},t) - Q^{\\pi_{1}}_{t}(x_{t}, \\pi_{2}(x_{t},t) \\right)$$"
   ]
  },
  {
   "cell_type": "markdown",
   "metadata": {},
   "source": [
    "$V^{\\pi_{1}}_{t}(x_{t}) - V^{\\pi_{2}}_{t}(x_{t}) = Q^{\\pi_{1}}_{t}(x_{t}, \\pi_{1}(x_{t}, t)) - Q^{\\pi_{2}}_{t}(x_{t}, \\pi_{2}(x_{t}, t))$\n",
    "\n",
    "$V^{\\pi_{1}}_{t}(x_{t}) - V^{\\pi_{2}}_{t}(x_{t}) = Q^{\\pi_{1}}_{t}(x_{t}, \\pi_{1}(x_{t}, t)) - Q^{\\pi_{1}}_{t}(x_{t}, \\pi_{2}(x_{t}, t)) + Q^{\\pi_{1}}_{t}(x_{t}, \\pi_{2}(x_{t}, t)) - Q^{\\pi_{2}}_{t}(x_{t}, \\pi_{2}(x_{t}, t))$\n",
    "\n",
    "$V^{\\pi_{1}}_{t}(x_{t}) - V^{\\pi_{2}}_{t}(x_{t}) = Q^{\\pi_{1}}_{t}(x_{t}, \\pi_{1}(x_{t}, t)) - Q^{\\pi_{1}}_{t}(x_{t}, \\pi_{2}(x_{t}, t)) + r_{t}(x_{t}, \\pi_{2}(x_{t}, t)) + \\mathbb{E}_{s' \\sim P(x_{t}, \\pi_{2}(x_{t},t))}\\left(V^{\\pi_{1}}_{t+1}(s')\\right) - r_{t}(x_{t}, \\pi_{2}(x_{t}, t)) - \\mathbb{E}_{s' \\sim P(x_{t}, \\pi_{2}(x_{t},t))}\\left(V^{\\pi_{2}}_{t+1}(s')\\right)$\n",
    "\n",
    "$V^{\\pi_{1}}_{t}(x_{t}) - V^{\\pi_{2}}_{t}(x_{t}) = Q^{\\pi_{1}}_{t}(x_{t}, \\pi_{1}(x_{t}, t)) - Q^{\\pi_{1}}_{t}(x_{t}, \\pi_{2}(x_{t}, t)) + \\mathbb{E}_{s' \\sim P(x_{t}, \\pi_{2}(x_{t},t))}\\left(V^{\\pi_{1}}_{t+1}(s')- V^{\\pi_{2}}_{t+1}(s')\\right)$\n",
    "\n",
    "$\\mathbb{E}_{x_{t} \\sim \\pi_{2}}\\left(V^{\\pi_{1}}_{t}(x_{t}) - V^{\\pi_{2}}_{t}(x_{t})\\right) = \\mathbb{E}_{x_{t} \\sim \\pi_{2}}\\left(Q^{\\pi_{1}}_{t}(x_{t}, \\pi_{1}(x_{t}, t)) - Q^{\\pi_{1}}_{t}(x_{t}, \\pi_{2}(x_{t}, t))\\right) + \\mathbb{E}_{x_{t} \\sim \\pi_{2}}\\left(\\mathbb{E}_{s' \\sim P(x_{t}, \\pi_{2}(x_{t},t))}\\left(V^{\\pi_{1}}_{t+1}(s')- V^{\\pi_{2}}_{t+1}(s')\\right)\\right)$\n",
    "\n",
    "$\\mathbb{E}_{x_{t} \\sim \\pi_{2}}\\left(V^{\\pi_{1}}_{t}(x_{t}) - V^{\\pi_{2}}_{t}(x_{t})\\right) = \\mathbb{E}_{x_{t} \\sim \\pi_{2}}\\left(Q^{\\pi_{1}}_{t}(x_{t}, \\pi_{1}(x_{t}, t)) - Q^{\\pi_{1}}_{t}(x_{t}, \\pi_{2}(x_{t}, t))\\right) + \\mathbb{E}_{x_{t+1} \\sim \\pi_{2}}\\left(V^{\\pi_{1}}_{t+1}(s') - V^{\\pi_{2}}_{t+1}(s')\\right)$\n",
    "\n",
    "Expanding the second term using the above pattern until the ending time step $H$ yields:\n",
    "\n",
    "$\\mathbb{E}_{x_{t} \\sim \\pi_{2}}\\left(V^{\\pi_{1}}_{t}(x_{t}) - V^{\\pi_{2}}_{t}(x_{t})\\right) = \\sum_{\\tau=t}^{H}\\mathbb{E}_{x_{\\tau} \\sim \\pi_{2}}\\left(Q^{\\pi_{1}}_{\\tau}(x_{\\tau}, \\pi_{1}(x_{\\tau}, \\tau)) - Q^{\\pi_{1}}_{\\tau}(x_{\\tau}, \\pi_{2}(x_{\\tau}, \\tau))\\right)$\n",
    "\n",
    "Evaluating $x_{t}=x_{1}$ yields:\n",
    "\n",
    "$$V^{\\pi_{1}}_{1}(x_{1}) - V^{\\pi_{2}}_{1}(x_{1}) = \\sum_{t=1}^{H}\\mathbb{E}_{x_{t}\\sim\\pi_{2}}\\left(Q^{\\pi_{1}}_{t}(x_{t}, \\pi_{1}(x_{t},t) - Q^{\\pi_{1}}_{t}(x_{t}, \\pi_{2}(x_{t},t) \\right)$$"
   ]
  },
  {
   "cell_type": "markdown",
   "metadata": {},
   "source": [
    "# 3) Fixed Point"
   ]
  },
  {
   "cell_type": "markdown",
   "metadata": {},
   "source": [
    "Define: $V_{k+1} = BV_{k} = \\underset{a}{max}\\left[R(s,a) + \\gamma \\underset{s' \\in S}{\\sum}p(s'|s, a)V^{\\pi}_{k}(s')\\right]$"
   ]
  },
  {
   "cell_type": "markdown",
   "metadata": {},
   "source": [
    "We have shown in lecture: 1) $|BV' - BV''|_{\\infty} \\leq \\gamma |V' - V''|_{\\infty}$"
   ]
  },
  {
   "cell_type": "markdown",
   "metadata": {},
   "source": [
    "## a)"
   ]
  },
  {
   "cell_type": "markdown",
   "metadata": {},
   "source": [
    "Prove: $|V_{n+1}-V_{n}|_{\\infty} \\leq \\gamma^{n} |V_{1} - V_{0}|_{\\infty}$"
   ]
  },
  {
   "cell_type": "markdown",
   "metadata": {},
   "source": [
    "**Proof:**\n",
    "\n",
    "Base case, prove: $|V_{2}-V_{1}|_{\\infty} \\leq \\gamma |V_{1} - V_{0}|_{\\infty}$\n",
    "\n",
    "$|V_{2} - V_{1}|_{\\infty} = |BV_{1} - BV_{0}|_{\\infty} \\leq \\gamma |V_{1} - V_{0}|_{\\infty}$ using 1)\n",
    "\n",
    "therefore: $|V_{2} - V_{1}|_{\\infty} \\leq \\gamma |V_{1} - V_{0}|_{\\infty}$ \n",
    "\n",
    "Assuming: $|V_{k+1}-V_{k}|_{\\infty} \\leq \\gamma^{k} |V_{1} - V_{0}|_{\\infty}$ holds for $k$\n",
    "\n",
    "For $k+1$ we have: $|V_{k+2}-V_{k+1}|_{\\infty} = |BV_{k+1} - BV_{k}|_{\\infty} \\leq \\gamma |V_{k+1} - V_{k}|_{\\infty}$ using 1)\n",
    "\n",
    "Using our induction hypothesis yields: $\\gamma |V_{k+1} - V_{k}|_{\\infty} \\leq \\gamma^{k+1}|V_{1} - V_{0}|_{\\infty}$\n",
    "\n",
    "Therefore assuming our induction hypothesis, $|V_{k+2}-V_{k+1}|_{\\infty} \\leq \\gamma^{k+1}|V_{1} - V_{0}|_{\\infty}$\n",
    "\n",
    "Therefore using the law of induction: $|V_{n+1}-V_{n}|_{\\infty} \\leq \\gamma^{n} |V_{1} - V_{0}|_{\\infty}$ must be true for all $n \\geq 1$"
   ]
  },
  {
   "cell_type": "markdown",
   "metadata": {},
   "source": [
    "## b)"
   ]
  },
  {
   "cell_type": "markdown",
   "metadata": {},
   "source": [
    "Prove: For any $c>0$, $|V_{n+c} - V_{n}|_{\\infty} \\leq \\frac{\\gamma^{n}}{1 - \\gamma}|V_{1} - V_{0}|_{\\infty}$"
   ]
  },
  {
   "cell_type": "markdown",
   "metadata": {},
   "source": [
    "**Proof:**\n",
    "\n",
    "$|V_{n+c} - V_{n}|_{\\infty} = |V_{n+c} - V_{n+1} + V_{n+1} - V_{n}|_{\\infty} \\leq |V_{n+c} - V_{n+1}|_{\\infty} + |V_{n+1} - V_{n}|_{\\infty}$ using the triangle inequality\n",
    "\n",
    "$|V_{n+c} - V_{n}|_{\\infty} \\leq |V_{n+c} - V_{n+1}|_{\\infty} + |V_{n+1} - V_{n}|_{\\infty} \\leq |V_{n+c} - V_{n+1}|_{\\infty} + \\gamma^{n}|V_{1} - V_{0}|_{\\infty}$ using the equation proved in part a)\n",
    "\n",
    "$|V_{n+c} - V_{n}|_{\\infty} \\leq |V_{n+c} - V_{n+1}|_{\\infty} + \\gamma^{n}|V_{1} - V_{0}|_{\\infty} = |BV_{n+c-1} - BV_{n}|_{\\infty} + \\gamma^{n}|V_{1} - V_{0}|_{\\infty}$\n",
    "\n",
    "Using equation 1) yields: $|V_{n+c} - V_{n}|_{\\infty} \\leq \\gamma |V_{n+c-1} - V_{n}|_{\\infty} + \\gamma^{n}|V_{1} - V_{0}|_{\\infty}$\n",
    "\n",
    "Expanding the first term on the right hand side using the above equation $c$ times yields:\n",
    "\n",
    "$|V_{n+c} - V_{n}|_{\\infty} \\leq \\gamma^{c} |V_{n+c-c} - V_{n}|_{\\infty} + \\gamma^{n}|V_{1} - V_{0}|_{\\infty} + \\gamma^{n+1}|V_{1} - V_{0}|_{\\infty} + ... + \\gamma^{n+c-1}|V_{1} - V_{0}|_{\\infty}$\n",
    "\n",
    "$|V_{n+c} - V_{n}|_{\\infty} \\leq \\gamma^{n}(1 + \\gamma + ... + \\gamma^{c-1})|V_{1} - V_{0}|_{\\infty} = \\gamma^{n}\\sum_{k=0}^{c-1}\\gamma^{k}|V_{1} - V_{0}|_{\\infty} = \\gamma^{n}\\frac{1 - \\gamma^{c}}{1 - \\gamma}|V_{1} - V_{0}|_{\\infty}$\n",
    "\n",
    "$|V_{n+c} - V_{n}|_{\\infty} \\leq \\gamma^{n}\\frac{1 - \\gamma^{c}}{1 - \\gamma}|V_{1} - V_{0}|_{\\infty}$ for $c>0$\n",
    "\n",
    "Which implies: $|V_{n+c} - V_{n}|_{\\infty} \\leq \\frac{\\gamma^{n}}{1 - \\gamma}|V_{1} - V_{0}|_{\\infty}$ for $c>0$\n"
   ]
  },
  {
   "cell_type": "markdown",
   "metadata": {},
   "source": [
    "## c)"
   ]
  },
  {
   "cell_type": "markdown",
   "metadata": {},
   "source": [
    "Define a Cauchy Sequence as: $\\{a_{n}\\}$ such that $a_{n}$ is an element in a metric space with metric $d$, and given $\\epsilon > 0$ there exists a $k$ such that if $m,n>k$ implies $d(a_{m}, a_{n}) < \\epsilon$"
   ]
  },
  {
   "cell_type": "markdown",
   "metadata": {},
   "source": [
    "$n \\to \\infty \\implies \\frac{\\gamma^{n}}{1 - \\gamma}|V_{1} - V_{0}|_{\\infty} \\to 0$ Which implies given $\\epsilon > 0$ there exists $n$ such that $\\frac{\\gamma^{n}}{1 - \\gamma}|V_{1} - V_{0}|_{\\infty} < \\epsilon \\implies |V_{n+c} - V_{n}|_{\\infty} \\leq \\frac{\\gamma^{n}}{1 - \\gamma}|V_{1} - V_{0}|_{\\infty} < \\epsilon \\implies |V_{n+c} - V_{n}|_{\\infty} < \\epsilon$ for all $c>0$. Which implies $\\{V_{n}\\}$ is a Cauchy Sequence and must converge to some value $V$"
   ]
  },
  {
   "cell_type": "markdown",
   "metadata": {},
   "source": [
    "## d)"
   ]
  },
  {
   "cell_type": "markdown",
   "metadata": {},
   "source": [
    "Show that the fixed point of Cauchy Sequence $\\{V_{n}\\}$ is unique."
   ]
  },
  {
   "cell_type": "markdown",
   "metadata": {},
   "source": [
    "$V$ is a fixed point of Cauchy Sequence $\\{V_{n}\\}$ if $BV = V$. Assume there exists multiple fixed points, $V$ and $V'$ of Cauchy Sequence $\\{V_{n}\\}$.\n",
    "\n",
    "Equation 1) implies: $|BV - BV'|_{\\infty} \\leq \\gamma |V - V'|_{\\infty}$ for $\\gamma < 1$\n",
    "\n",
    "Since $V$ and $V'$ are both fixed points, $|BV - BV'|_{\\infty} = |V - V'|_{\\infty}$ which implies $|V - V'|_{\\infty} \\leq \\gamma |V - V'|_{\\infty}$ for $\\gamma < 1$. This is clearly a contradiction therefore Cauchy Sequence $\\{V_{n}\\}$ must converge to a unique fixed point.\n"
   ]
  },
  {
   "cell_type": "code",
   "execution_count": null,
   "metadata": {},
   "outputs": [],
   "source": []
  }
 ],
 "metadata": {
  "kernelspec": {
   "display_name": "Python 3",
   "language": "python",
   "name": "python3"
  },
  "language_info": {
   "codemirror_mode": {
    "name": "ipython",
    "version": 3
   },
   "file_extension": ".py",
   "mimetype": "text/x-python",
   "name": "python",
   "nbconvert_exporter": "python",
   "pygments_lexer": "ipython3",
   "version": "3.7.5"
  }
 },
 "nbformat": 4,
 "nbformat_minor": 4
}
